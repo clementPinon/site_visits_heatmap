{
 "cells": [
  {
   "cell_type": "markdown",
   "metadata": {},
   "source": [
    "# Get time of day site visits and build a heatmap from the dataset"
   ]
  },
  {
   "cell_type": "markdown",
   "metadata": {},
   "source": [
    "##1 . prepare environment with proper librairies"
   ]
  },
  {
   "cell_type": "code",
   "execution_count": 1,
   "metadata": {
    "collapsed": true
   },
   "outputs": [],
   "source": [
    "%matplotlib inline"
   ]
  },
  {
   "cell_type": "code",
   "execution_count": 2,
   "metadata": {
    "collapsed": false
   },
   "outputs": [],
   "source": [
    "#import libraries\n",
    "import numpy as np\n",
    "import pandas as pd\n",
    "import matplotlib.pyplot as plt\n",
    "import seaborn as sns #pour faire des graph dans la bonne couleur etc.. par default\n",
    "import csv as csv"
   ]
  },
  {
   "cell_type": "markdown",
   "metadata": {},
   "source": [
    "##2. upload file"
   ]
  },
  {
   "cell_type": "markdown",
   "metadata": {},
   "source": [
    "> check whether you want to upload a CSV or XLSX file."
   ]
  },
  {
   "cell_type": "code",
   "execution_count": 4,
   "metadata": {
    "collapsed": true
   },
   "outputs": [],
   "source": [
    "detailedFile = 'time_analysis_EST.xlsx'\n",
    "#detailedFile = 'time_analysis.csv'"
   ]
  },
  {
   "cell_type": "code",
   "execution_count": 5,
   "metadata": {
    "collapsed": false
   },
   "outputs": [],
   "source": [
    "xls_file = pd.ExcelFile(detailedFile)\n",
    "df = xls_file.parse('time_analysis')\n",
    "\n",
    "#df = pd.read_csv(detailedFile, dtype=object)"
   ]
  },
  {
   "cell_type": "code",
   "execution_count": 5,
   "metadata": {
    "collapsed": true
   },
   "outputs": [],
   "source": [
    "#ressources\n",
    "#http://chrisalbon.com/python/pandas_with_seaborn.html\n",
    "#https://stanford.edu/~mwaskom/software/seaborn/generated/seaborn.heatmap.html"
   ]
  },
  {
   "cell_type": "code",
   "execution_count": 9,
   "metadata": {
    "collapsed": false
   },
   "outputs": [
    {
     "data": {
      "text/html": [
       "<div style=\"max-height:1000px;max-width:1500px;overflow:auto;\">\n",
       "<table border=\"1\" class=\"dataframe\">\n",
       "  <thead>\n",
       "    <tr style=\"text-align: right;\">\n",
       "      <th></th>\n",
       "      <th>day_of_week</th>\n",
       "      <th>weekend</th>\n",
       "      <th>DoW</th>\n",
       "      <th>hour</th>\n",
       "      <th>device</th>\n",
       "      <th>count_fire</th>\n",
       "    </tr>\n",
       "  </thead>\n",
       "  <tbody>\n",
       "    <tr>\n",
       "      <th>0</th>\n",
       "      <td>0</td>\n",
       "      <td>Weekend</td>\n",
       "      <td>Sunday</td>\n",
       "      <td>11</td>\n",
       "      <td>mobile app</td>\n",
       "      <td>82</td>\n",
       "    </tr>\n",
       "    <tr>\n",
       "      <th>1</th>\n",
       "      <td>0</td>\n",
       "      <td>Weekend</td>\n",
       "      <td>Sunday</td>\n",
       "      <td>19</td>\n",
       "      <td>desktop</td>\n",
       "      <td>2250</td>\n",
       "    </tr>\n",
       "    <tr>\n",
       "      <th>2</th>\n",
       "      <td>0</td>\n",
       "      <td>Weekend</td>\n",
       "      <td>Sunday</td>\n",
       "      <td>21</td>\n",
       "      <td>mobile</td>\n",
       "      <td>495</td>\n",
       "    </tr>\n",
       "    <tr>\n",
       "      <th>3</th>\n",
       "      <td>0</td>\n",
       "      <td>Weekend</td>\n",
       "      <td>Sunday</td>\n",
       "      <td>22</td>\n",
       "      <td>mobile app</td>\n",
       "      <td>39</td>\n",
       "    </tr>\n",
       "    <tr>\n",
       "      <th>4</th>\n",
       "      <td>0</td>\n",
       "      <td>Weekend</td>\n",
       "      <td>Sunday</td>\n",
       "      <td>9</td>\n",
       "      <td>desktop</td>\n",
       "      <td>3736</td>\n",
       "    </tr>\n",
       "  </tbody>\n",
       "</table>\n",
       "</div>"
      ],
      "text/plain": [
       "   day_of_week  weekend     DoW  hour      device  count_fire\n",
       "0            0  Weekend  Sunday    11  mobile app          82\n",
       "1            0  Weekend  Sunday    19     desktop        2250\n",
       "2            0  Weekend  Sunday    21      mobile         495\n",
       "3            0  Weekend  Sunday    22  mobile app          39\n",
       "4            0  Weekend  Sunday     9     desktop        3736"
      ]
     },
     "execution_count": 9,
     "metadata": {},
     "output_type": "execute_result"
    }
   ],
   "source": [
    "#df = sns.load_dataset(\"df\")\n",
    "df.head()\n",
    "#df.tail()\n",
    "#df.DoW.unique()\n",
    "#df.day_of_week.unique()"
   ]
  },
  {
   "cell_type": "markdown",
   "metadata": {},
   "source": [
    "##3. play around with dataframe"
   ]
  },
  {
   "cell_type": "code",
   "execution_count": 15,
   "metadata": {
    "collapsed": false
   },
   "outputs": [
    {
     "data": {
      "image/png": "[encoded data removed]",
      "text/plain": [
       "<matplotlib.figure.Figure at 0x10a11d150>"
      ]
     },
     "metadata": {},
     "output_type": "display_data"
    }
   ],
   "source": [
    "#df_unstacked = df.groupby(['DoW','hour'])['count_fire'].aggregate('sum').unstack().reset_index()\n",
    "df_unstacked = df.groupby(['DoW','hour'])['count_fire'].aggregate('sum').unstack()\n",
    "#df_unstacked.head()\n",
    "\n",
    "#change palette\n",
    "#cmap = sns.light_palette((260, 75, 60), input=\"husl\")\n",
    "cmap = sns.light_palette(\"#c0392b\", as_cmap=True)\n",
    "\n",
    "grid_kws = {\"height_ratios\": (.9, .05), \"hspace\": .5}\n",
    "f, (ax, cbar_ax) = plt.subplots(2, gridspec_kw=grid_kws)\n",
    "\n",
    "\n",
    "\n",
    "#sns.heatmap(df_unstacked, fmt=\"d\", cmap=\"YlGnBu\")\n",
    "#sns.heatmap(df_unstacked, fmt=\"d\", cmap=cmap, center=df_unstacked.loc[\"Monday\", 0])\n",
    "#ax = sns.heatmap(df_unstacked, cmap=cmap, linewidths=.1, xticklabels = 2)\n",
    "#ax = sns.heatmap(df_unstacked, cmap=cmap, linewidths=.1)\n",
    "ax = sns.heatmap(df_unstacked, ax=ax, cmap = cmap,\n",
    "                  cbar_ax=cbar_ax,\n",
    "                  cbar_kws={\"orientation\": \"horizontal\"})"
   ]
  },
  {
   "cell_type": "code",
   "execution_count": 32,
   "metadata": {
    "collapsed": false
   },
   "outputs": [
    {
     "data": {
      "image/png": "[encoded data removed]",
      "text/plain": [
       "<matplotlib.figure.Figure at 0x109a8f9d0>"
      ]
     },
     "metadata": {},
     "output_type": "display_data"
    }
   ],
   "source": [
    "#df_unstacked = df.groupby(['DoW','hour'])['count_fire'].aggregate('sum').unstack().reset_index()\n",
    "df_unstacked = df.groupby(['DoW','hour'])['count_fire'].aggregate('sum').unstack()\n",
    "#df_unstacked.head()\n",
    "\n",
    "#change palette\n",
    "#cmap = sns.light_palette((260, 75, 60), input=\"husl\")\n",
    "cmap = sns.light_palette(\"#27ae60\", as_cmap=True)\n",
    "ax = sns.heatmap(df_unstacked, cmap = cmap)"
   ]
  },
  {
   "cell_type": "code",
   "execution_count": 37,
   "metadata": {
    "collapsed": false
   },
   "outputs": [
    {
     "data": {
      "text/plain": [
       "<matplotlib.axes._subplots.AxesSubplot at 0x10b7efdd0>"
      ]
     },
     "execution_count": 37,
     "metadata": {},
     "output_type": "execute_result"
    },
    {
     "data": {
      "image/png": "[encoded data removed]",
      "text/plain": [
       "<matplotlib.figure.Figure at 0x10ca67550>"
      ]
     },
     "metadata": {},
     "output_type": "display_data"
    }
   ],
   "source": [
    "df_unstacked = df.groupby(['DoW','hour'])['count_fire'].aggregate('sum').unstack()\n",
    "#sns.heatmap(df_unstacked,annot=True, fmt=\"d\")\n",
    "sns.heatmap(df_unstacked, fmt=\"d\", center=df_unstacked.loc[\"Monday\", 0])\n"
   ]
  },
  {
   "cell_type": "code",
   "execution_count": 38,
   "metadata": {
    "collapsed": false
   },
   "outputs": [
    {
     "data": {
      "text/html": [
       "<div style=\"max-height:1000px;max-width:1500px;overflow:auto;\">\n",
       "<table border=\"1\" class=\"dataframe\">\n",
       "  <thead>\n",
       "    <tr style=\"text-align: right;\">\n",
       "      <th>hour</th>\n",
       "      <th>0.0</th>\n",
       "      <th>1.0</th>\n",
       "      <th>2.0</th>\n",
       "      <th>3.0</th>\n",
       "      <th>4.0</th>\n",
       "      <th>5.0</th>\n",
       "      <th>6.0</th>\n",
       "      <th>7.0</th>\n",
       "      <th>8.0</th>\n",
       "      <th>9.0</th>\n",
       "      <th>...</th>\n",
       "      <th>14.0</th>\n",
       "      <th>15.0</th>\n",
       "      <th>16.0</th>\n",
       "      <th>17.0</th>\n",
       "      <th>18.0</th>\n",
       "      <th>19.0</th>\n",
       "      <th>20.0</th>\n",
       "      <th>21.0</th>\n",
       "      <th>22.0</th>\n",
       "      <th>23.0</th>\n",
       "    </tr>\n",
       "    <tr>\n",
       "      <th>DoW</th>\n",
       "      <th></th>\n",
       "      <th></th>\n",
       "      <th></th>\n",
       "      <th></th>\n",
       "      <th></th>\n",
       "      <th></th>\n",
       "      <th></th>\n",
       "      <th></th>\n",
       "      <th></th>\n",
       "      <th></th>\n",
       "      <th></th>\n",
       "      <th></th>\n",
       "      <th></th>\n",
       "      <th></th>\n",
       "      <th></th>\n",
       "      <th></th>\n",
       "      <th></th>\n",
       "      <th></th>\n",
       "      <th></th>\n",
       "      <th></th>\n",
       "      <th></th>\n",
       "    </tr>\n",
       "  </thead>\n",
       "  <tbody>\n",
       "    <tr>\n",
       "      <th>Friday</th>\n",
       "      <td>248</td>\n",
       "      <td>268</td>\n",
       "      <td>479</td>\n",
       "      <td>1160</td>\n",
       "      <td>2057</td>\n",
       "      <td>3720</td>\n",
       "      <td>4066</td>\n",
       "      <td>4743</td>\n",
       "      <td>2868</td>\n",
       "      <td>3656</td>\n",
       "      <td>...</td>\n",
       "      <td>3526</td>\n",
       "      <td>2302</td>\n",
       "      <td>2806</td>\n",
       "      <td>3537</td>\n",
       "      <td>4684</td>\n",
       "      <td>3076</td>\n",
       "      <td>1690</td>\n",
       "      <td>753</td>\n",
       "      <td>330</td>\n",
       "      <td>110</td>\n",
       "    </tr>\n",
       "    <tr>\n",
       "      <th>Monday</th>\n",
       "      <td>333</td>\n",
       "      <td>499</td>\n",
       "      <td>786</td>\n",
       "      <td>2988</td>\n",
       "      <td>4357</td>\n",
       "      <td>6502</td>\n",
       "      <td>8394</td>\n",
       "      <td>9299</td>\n",
       "      <td>6538</td>\n",
       "      <td>6853</td>\n",
       "      <td>...</td>\n",
       "      <td>6258</td>\n",
       "      <td>5473</td>\n",
       "      <td>5230</td>\n",
       "      <td>7432</td>\n",
       "      <td>7009</td>\n",
       "      <td>5279</td>\n",
       "      <td>2881</td>\n",
       "      <td>1343</td>\n",
       "      <td>470</td>\n",
       "      <td>316</td>\n",
       "    </tr>\n",
       "    <tr>\n",
       "      <th>Saturday</th>\n",
       "      <td>202</td>\n",
       "      <td>236</td>\n",
       "      <td>313</td>\n",
       "      <td>964</td>\n",
       "      <td>1928</td>\n",
       "      <td>2780</td>\n",
       "      <td>3144</td>\n",
       "      <td>2903</td>\n",
       "      <td>3034</td>\n",
       "      <td>2689</td>\n",
       "      <td>...</td>\n",
       "      <td>3431</td>\n",
       "      <td>3338</td>\n",
       "      <td>3207</td>\n",
       "      <td>3285</td>\n",
       "      <td>3483</td>\n",
       "      <td>2991</td>\n",
       "      <td>1471</td>\n",
       "      <td>1159</td>\n",
       "      <td>498</td>\n",
       "      <td>207</td>\n",
       "    </tr>\n",
       "    <tr>\n",
       "      <th>Sunday</th>\n",
       "      <td>378</td>\n",
       "      <td>715</td>\n",
       "      <td>1357</td>\n",
       "      <td>4217</td>\n",
       "      <td>8765</td>\n",
       "      <td>10458</td>\n",
       "      <td>9707</td>\n",
       "      <td>9049</td>\n",
       "      <td>7363</td>\n",
       "      <td>6427</td>\n",
       "      <td>...</td>\n",
       "      <td>8248</td>\n",
       "      <td>7773</td>\n",
       "      <td>6921</td>\n",
       "      <td>8466</td>\n",
       "      <td>8141</td>\n",
       "      <td>5385</td>\n",
       "      <td>2675</td>\n",
       "      <td>1086</td>\n",
       "      <td>712</td>\n",
       "      <td>485</td>\n",
       "    </tr>\n",
       "    <tr>\n",
       "      <th>Thursday</th>\n",
       "      <td>371</td>\n",
       "      <td>472</td>\n",
       "      <td>899</td>\n",
       "      <td>2488</td>\n",
       "      <td>4244</td>\n",
       "      <td>5733</td>\n",
       "      <td>6882</td>\n",
       "      <td>6465</td>\n",
       "      <td>4650</td>\n",
       "      <td>5026</td>\n",
       "      <td>...</td>\n",
       "      <td>4983</td>\n",
       "      <td>4370</td>\n",
       "      <td>3664</td>\n",
       "      <td>5023</td>\n",
       "      <td>4889</td>\n",
       "      <td>3478</td>\n",
       "      <td>1494</td>\n",
       "      <td>606</td>\n",
       "      <td>412</td>\n",
       "      <td>223</td>\n",
       "    </tr>\n",
       "  </tbody>\n",
       "</table>\n",
       "<p>5 rows × 24 columns</p>\n",
       "</div>"
      ],
      "text/plain": [
       "hour       0    1     2     3     4      5     6     7     8     9  ...   \\\n",
       "DoW                                                                 ...    \n",
       "Friday    248  268   479  1160  2057   3720  4066  4743  2868  3656 ...    \n",
       "Monday    333  499   786  2988  4357   6502  8394  9299  6538  6853 ...    \n",
       "Saturday  202  236   313   964  1928   2780  3144  2903  3034  2689 ...    \n",
       "Sunday    378  715  1357  4217  8765  10458  9707  9049  7363  6427 ...    \n",
       "Thursday  371  472   899  2488  4244   5733  6882  6465  4650  5026 ...    \n",
       "\n",
       "hour        14    15    16    17    18    19    20    21   22   23  \n",
       "DoW                                                                 \n",
       "Friday    3526  2302  2806  3537  4684  3076  1690   753  330  110  \n",
       "Monday    6258  5473  5230  7432  7009  5279  2881  1343  470  316  \n",
       "Saturday  3431  3338  3207  3285  3483  2991  1471  1159  498  207  \n",
       "Sunday    8248  7773  6921  8466  8141  5385  2675  1086  712  485  \n",
       "Thursday  4983  4370  3664  5023  4889  3478  1494   606  412  223  \n",
       "\n",
       "[5 rows x 24 columns]"
      ]
     },
     "execution_count": 38,
     "metadata": {},
     "output_type": "execute_result"
    }
   ],
   "source": [
    "df_unstacked.head()"
   ]
  },
  {
   "cell_type": "code",
   "execution_count": 39,
   "metadata": {
    "collapsed": false
   },
   "outputs": [
    {
     "data": {
      "text/plain": [
       "array([u'mobile app', u'desktop', u'mobile', u'tablet', u'game console',\n",
       "       u'unknown'], dtype=object)"
      ]
     },
     "execution_count": 39,
     "metadata": {},
     "output_type": "execute_result"
    }
   ],
   "source": [
    "df.device.unique()"
   ]
  },
  {
   "cell_type": "code",
   "execution_count": 40,
   "metadata": {
    "collapsed": false
   },
   "outputs": [
    {
     "data": {
      "text/plain": [
       "<matplotlib.axes._subplots.AxesSubplot at 0x10ca88150>"
      ]
     },
     "execution_count": 40,
     "metadata": {},
     "output_type": "execute_result"
    },
    {
     "data": {
      "image/png": "[encoded data removed]",
      "text/plain": [
       "<matplotlib.figure.Figure at 0x109a7ce50>"
      ]
     },
     "metadata": {},
     "output_type": "display_data"
    }
   ],
   "source": [
    "subset = df[df['device'] == 'desktop']\n",
    "df_unstacked = subset.groupby(['DoW','hour'])['count_fire'].aggregate('sum').unstack()\n",
    "sns.heatmap(df_unstacked, fmt=\"d\")"
   ]
  },
  {
   "cell_type": "code",
   "execution_count": 41,
   "metadata": {
    "collapsed": false
   },
   "outputs": [
    {
     "data": {
      "text/plain": [
       "<matplotlib.axes._subplots.AxesSubplot at 0x10c17e3d0>"
      ]
     },
     "execution_count": 41,
     "metadata": {},
     "output_type": "execute_result"
    },
    {
     "data": {
      "image/png": "[encoded data removed]",
      "text/plain": [
       "<matplotlib.figure.Figure at 0x10c1734d0>"
      ]
     },
     "metadata": {},
     "output_type": "display_data"
    }
   ],
   "source": [
    "subset = df[df['device'] == 'mobile']\n",
    "df_unstacked = subset.groupby(['hour','DoW'])['count_fire'].aggregate('sum').unstack()\n",
    "sns.heatmap(df_unstacked, fmt=\"d\")"
   ]
  },
  {
   "cell_type": "code",
   "execution_count": 42,
   "metadata": {
    "collapsed": false
   },
   "outputs": [
    {
     "data": {
      "text/plain": [
       "<matplotlib.axes._subplots.AxesSubplot at 0x10cb31c10>"
      ]
     },
     "execution_count": 42,
     "metadata": {},
     "output_type": "execute_result"
    },
    {
     "data": {
      "image/png": "[encoded data removed]",
      "text/plain": [
       "<matplotlib.figure.Figure at 0x10c083c90>"
      ]
     },
     "metadata": {},
     "output_type": "display_data"
    }
   ],
   "source": [
    "subset = df[df['device'] == 'tablet']\n",
    "df_unstacked = subset.groupby(['DoW','hour'])['count_fire'].aggregate('sum').unstack()\n",
    "sns.heatmap(df_unstacked, fmt=\"d\")"
   ]
  },
  {
   "cell_type": "code",
   "execution_count": 43,
   "metadata": {
    "collapsed": false
   },
   "outputs": [
    {
     "data": {
      "image/png": "[encoded data removed]",
      "text/plain": [
       "<matplotlib.figure.Figure at 0x10c205550>"
      ]
     },
     "metadata": {},
     "output_type": "display_data"
    }
   ],
   "source": [
    "#sns.heatmap([df.DoW, df.hour], annot=True, fmt=\"d\")\n",
    "sns.set()\n",
    "# Load the example flights dataset and conver to long-form\n",
    "flights_long = sns.load_dataset(\"flights\")\n",
    "flights = flights_long.pivot(\"month\", \"year\", \"passengers\")\n",
    "flights_long.head()\n",
    "flights.head()\n",
    "# Draw a heatmap with the numeric values in each cell\n",
    "#sns.heatmap(flights, annot=True, fmt=\"d\", linewidths=.5)\n",
    "\n",
    "ax = sns.heatmap(flights)"
   ]
  }
 ],
 "metadata": {
  "kernelspec": {
   "display_name": "Python 2",
   "language": "python",
   "name": "python2"
  },
  "language_info": {
   "codemirror_mode": {
    "name": "ipython",
    "version": 2
   },
   "file_extension": ".py",
   "mimetype": "text/x-python",
   "name": "python",
   "nbconvert_exporter": "python",
   "pygments_lexer": "ipython2",
   "version": "2.7.9"
  }
 },
 "nbformat": 4,
 "nbformat_minor": 0
}
